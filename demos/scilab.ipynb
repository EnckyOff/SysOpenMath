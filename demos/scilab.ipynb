{
 "cells": [
  {
   "cell_type": "markdown",
   "id": "fee5fd19-d1a9-4f32-9c3b-05c779537be2",
   "metadata": {},
   "source": [
    "### Нахождение корней полинома методом Парабол $(x-1.1)^5$"
   ]
  },
  {
   "cell_type": "code",
   "execution_count": null,
   "id": "b1e43f9a-cd8b-4f60-9b00-697a440ab61d",
   "metadata": {},
   "outputs": [],
   "source": [
    "//Строим полином\n",
    "x = poly(0, 'x');\n",
    "P = (x-1.1)^5"
   ]
  },
  {
   "cell_type": "code",
   "execution_count": 4,
   "id": "c4c89aca-fbf4-4015-95de-ac4cc225f3b7",
   "metadata": {},
   "outputs": [
    {
     "name": "stdout",
     "output_type": "stream",
     "text": [
      "\u001b[4l\u001b[0m ans  =\n",
      "   1.1010545 + 0.0007666i\n",
      "   1.1010545 - 0.0007666i\n",
      "   1.0995968 + 0.001239i \n",
      "   1.0995968 - 0.001239i \n",
      "   1.0986975 + 0.i       \n",
      "\u001b[0m"
     ]
    }
   ],
   "source": [
    "// Находим корни\n",
    "roots(P)"
   ]
  },
  {
   "cell_type": "markdown",
   "id": "a8ce8396-b0a2-4422-a0b2-7261a41a9ecc",
   "metadata": {},
   "source": [
    "### Нахождение корней уравнения модифицированным методом касательных"
   ]
  },
  {
   "cell_type": "code",
   "execution_count": 13,
   "id": "75a27896-5bee-4d0e-b41b-ff943410669b",
   "metadata": {},
   "outputs": [
    {
     "name": "stdout",
     "output_type": "stream",
     "text": [
      "\u001b[4l\u001b[0m a  = \n",
      "  -15.5123  -549.25163  -3353.2844  -5123.6759  -1791.6628  -66.627177\n",
      "\u001b[0m"
     ]
    }
   ],
   "source": [
    "a=[1\t-16.5\t123.2\t-549.45\t1626.1773\t-3353.4617\t4916.4635\t-5124.1394\t3720.4771\t-1792.1398\t515.41708\t-67.044257]"
   ]
  },
  {
   "cell_type": "code",
   "execution_count": null,
   "id": "2bb3044b-77c6-428e-985e-d3e24eb1e7ba",
   "metadata": {},
   "outputs": [
    {
     "name": "stdout",
     "output_type": "stream",
     "text": [
      "\u001b[4l\u001b[0m B  = \n",
      "  -66.627177  -1791.6628  -5123.6759  -3353.2844  -549.25163  -15.5123\n",
      "\u001b[0m"
     ]
    }
   ],
   "source": [
    "B = a($:-1:1)"
   ]
  },
  {
   "cell_type": "code",
   "execution_count": 16,
   "id": "57ca5bd3-1a5b-4d31-80b8-4bc7de3b1ec2",
   "metadata": {},
   "outputs": [
    {
     "name": "stdout",
     "output_type": "stream",
     "text": [
      "\u001b[4l\u001b[0m ans  =\n",
      "  -23.740308 + 0.i\n",
      "  -2.2999074 + 0.i\n",
      "  -0.6223239 + 0.i\n",
      "  -0.1927901 + 0.i\n",
      "  -0.0355408 + 0.i\n",
      "\u001b[0m"
     ]
    }
   ],
   "source": [
    "roots(B)"
   ]
  }
 ],
 "metadata": {
  "kernelspec": {
   "display_name": "Scilab",
   "language": "scilab",
   "name": "scilab"
  },
  "language_info": {
   "file_extension": ".sci",
   "help_links": [
    {
     "text": "MetaKernel Magics",
     "url": "https://metakernel.readthedocs.io/en/latest/source/README.html"
    }
   ],
   "mimetype": "text/x-scilab",
   "name": "scilab",
   "version": "0.10.2"
  }
 },
 "nbformat": 4,
 "nbformat_minor": 5
}
