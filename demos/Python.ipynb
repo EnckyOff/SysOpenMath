{
 "cells": [
  {
   "cell_type": "markdown",
   "id": "0100cda8-15f5-424c-883c-d216d858a71c",
   "metadata": {},
   "source": [
    "# Метод параболы для уравнения $(x-1.1)^5=0$"
   ]
  },
  {
   "cell_type": "code",
   "execution_count": null,
   "id": "057203c7-be6d-4b07-84f3-3ede320ce3da",
   "metadata": {},
   "outputs": [],
   "source": [
    "import numpy as np\n",
    "import cmath\n",
    "from math import comb\n",
    "\n",
    "def make_coeffs(a: float, n: int) -> np.ndarray:\n",
    "    coeffs = [comb(n, k) * (-a)**(n-k) for k in range(n+1)]\n",
    "    coeffs = coeffs[::-1]\n",
    "    return np.array(coeffs, dtype=np.complex128)"
   ]
  },
  {
   "cell_type": "code",
   "execution_count": null,
   "id": "26ad83e6-4a29-4598-a874-ec4bf4de1621",
   "metadata": {},
   "outputs": [],
   "source": [
    "def polyval(P: np.ndarray, x: complex) -> complex:\n",
    "    y = 0+0j\n",
    "    for a in P:\n",
    "        y = y * x + a\n",
    "    return y\n",
    "\n",
    "def ras1(P: np.ndarray, x0: complex, x1: complex) -> complex:\n",
    "    return (polyval(P, x1) - polyval(P, x0)) / (x1 - x0)\n",
    "\n",
    "def ras2(P: np.ndarray, x0: complex, x1: complex, x2: complex) -> complex:\n",
    "    return (ras1(P, x1, x2) - ras1(P, x0, x1)) / (x2 - x0)\n",
    "\n",
    "def muller_step(P: np.ndarray, x0: complex, x1: complex, x2: complex) -> complex:\n",
    "    f2 = polyval(P, x2)\n",
    "    d1 = ras1(P, x1, x2)\n",
    "    d2 = ras1(P, x0, x2)\n",
    "    A  = ras2(P, x0, x1, x2)\n",
    "    B  = d1 + d2 - ras1(P, x0, x1)\n",
    "    D  = cmath.sqrt(B*B - 4*A*f2)\n",
    "    denom = B + D if abs(B + D) > abs(B - D) else B - D\n",
    "    return x2 - 2 * f2 / denom\n",
    "\n",
    "def find_root_muller(P: np.ndarray, x_init: complex, eps: float, maxiter: int = 10000) -> complex:\n",
    "    x0 = 0.85 * x_init \n",
    "    x1 = x_init\n",
    "    x2 = 1.15 * x_init\n",
    "    for _ in range(maxiter):\n",
    "        x3 = muller_step(P, x0, x1, x2)\n",
    "        if abs(polyval(P, x3)) < eps:\n",
    "            return x3\n",
    "        x0, x1, x2 = x1, x2, x3\n",
    "\n",
    "def deflate(P: np.ndarray, root: complex) -> np.ndarray:\n",
    "    n = P.size\n",
    "    B = np.empty(n-1, dtype=np.complex128)\n",
    "    B[0] = P[0]\n",
    "    for i in range(1, n-1):\n",
    "        B[i] = B[i-1] * root + P[i]\n",
    "    return B\n",
    "\n",
    "\n",
    "def mullers_all_roots(P: np.ndarray, eps: float = 1e-14) -> np.ndarray:\n",
    "    roots = []\n",
    "    while P.size > 1:\n",
    "        r = find_root_muller(P, 1+0j, eps)\n",
    "        roots.append(r)\n",
    "        P = deflate(P, r)\n",
    "    return np.array(roots, dtype=np.complex128)\n",
    "    \n",
    "P = make_coeffs(1.1, 5)\n",
    "roots = mullers_all_roots(P)\n"
   ]
  },
  {
   "cell_type": "code",
   "execution_count": 61,
   "id": "d20ff742-5dec-4eff-84cd-4f364a7757d6",
   "metadata": {},
   "outputs": [
    {
     "name": "stdout",
     "output_type": "stream",
     "text": [
      "Найденные корни:\n",
      " 1.0986018710448326 + -0.0002006393671534958j\n",
      " 1.0993771798790124 + 0.0012677792106174555j\n",
      " 1.1012489071201006 + -0.0006595424020149749j\n",
      " 1.1010132792358196 + 0.0009840111159257771j\n",
      " 1.0997587627202339 + -0.001391608557374762j\n"
     ]
    }
   ],
   "source": [
    "print(\"Найденные корни:\")\n",
    "for r in roots:\n",
    "    print(f\" {r.real} + {r.imag}j\")"
   ]
  },
  {
   "cell_type": "code",
   "execution_count": 56,
   "id": "8492dc9a-376a-4d7e-bfc7-ad234ef864dc",
   "metadata": {},
   "outputs": [
    {
     "name": "stdout",
     "output_type": "stream",
     "text": [
      "Корень\t\t\tОстатки:\n",
      "+1.0986018710-0.0002006394j\t4.31e-15\n",
      "+1.0993771799+0.0012677792j\t4.31e-15\n",
      "+1.1012489071-0.0006595424j\t4.85e-15\n",
      "+1.1010132792+0.0009840111j\t4.74e-15\n",
      "+1.0997587627-0.0013916086j\t4.33e-15\n"
     ]
    }
   ],
   "source": [
    "print(\"Корень\\t\\t\\tОстатки:\")\n",
    "for i in range(len(roots)):\n",
    "    res = abs(polyval(P,roots[i]) - polyval(P, np.roots(P)[i]))\n",
    "    print(f\"{roots[i].real:+.10f}{roots[i].imag:+.10f}j\\t{res:.2e}\")"
   ]
  },
  {
   "cell_type": "code",
   "execution_count": 5,
   "id": "9e5ecc63-a9c0-4b76-93c1-00f39fa26d2e",
   "metadata": {
    "scrolled": true
   },
   "outputs": [
    {
     "name": "stdout",
     "output_type": "stream",
     "text": [
      "+1.0986018710 -0.0002006394j\t\t+1.0996483094 +0.0012308353j\n",
      "+1.0993771799 +0.0012677792j\t\t+1.0987213454 +0.0000468806j\n",
      "+1.1012489071 -0.0006595424j\t\t+1.0995591947 -0.0012020374j\n",
      "+1.1010132792 +0.0009840111j\t\t+1.1010630103 +0.0007152808j\n",
      "+1.0997587627 -0.0013916086j\t\t+1.1010081402 -0.0007909594j\n"
     ]
    }
   ],
   "source": [
    "x=np.roots(P)\n",
    "for i in range(5):\n",
    "    print(f\"{roots[i].real:+.10f} {roots[i].imag:+.10f}j\\t\\t{x[i].real:+.10f} {x[i].imag:+.10f}j\")"
   ]
  },
  {
   "cell_type": "markdown",
   "id": "c120c710-c89a-4bee-b75c-92e6bd044e64",
   "metadata": {},
   "source": [
    "### Метод касательных"
   ]
  },
  {
   "cell_type": "code",
   "execution_count": null,
   "id": "e60c6272-b2f1-42da-8cf3-5c8f1c639d8c",
   "metadata": {},
   "outputs": [
    {
     "name": "stdout",
     "output_type": "stream",
     "text": [
      "Найдено корней: 11\n",
      "root #1: (0.9099999353886055+0j)\n",
      "root #2: (0.9300003583438123+0j)\n",
      "root #3: (0.9499994112987741+0j)\n",
      "root #4: (1.0000019343534863+0j)\n",
      "root #5: (1.0199956271341701+0j)\n",
      "root #6: (1.030002851708563+0j)\n",
      "root #7: (1.069999881772548+0j)\n",
      "root #8: (200.00001236328276+0j)\n",
      "root #9: (200.29995593822667+0j)\n",
      "root #10: (200.5000369633223+0j)\n",
      "root #11: (200.99999473516837+0j)\n"
     ]
    }
   ],
   "source": [
    "import math\n",
    "import numpy as np\n",
    "\n",
    "NEWTON_TOL       = 1e-8\n",
    "NEWTON_MAX_STEPS = 1000 \n",
    "UNIQUE_TOL       = 1e-8\n",
    "\n",
    "\n",
    "def polynomial_value(z: complex, coeffs: np.ndarray) -> complex:\n",
    "    return np.polyval(coeffs, z)\n",
    "\n",
    "\n",
    "def polynomial_derivative_value(z: complex, coeffs: np.ndarray) -> complex:\n",
    "    return np.polyval(np.polyder(coeffs), z)\n",
    "\n",
    "def deflate_polynomial(coeffs: np.ndarray, root: complex) -> np.ndarray:\n",
    "    n = len(coeffs) - 1\n",
    "    powers = root ** np.arange(n, dtype=np.complex128) \n",
    "    q = np.empty(n, dtype=np.complex128)\n",
    "    for k in range(n):                                      \n",
    "        q[k] = np.dot(coeffs[:k + 1], powers[k::-1])      \n",
    "    return q\n",
    "\n",
    "def find_roots(coeffs_real: list[float]) -> list[complex]:\n",
    "    coeffs = np.asarray(coeffs_real, dtype=np.complex128)\n",
    "    roots: list[complex] = []\n",
    "\n",
    "    while len(coeffs) > 1:\n",
    "        n = len(coeffs) - 1\n",
    "        R = 1 + np.max(np.abs(coeffs[1:])) / abs(coeffs[0])\n",
    "        if n == 1:\n",
    "            r = 0.0\n",
    "        else:\n",
    "            r = 1 / (1 + np.max(np.abs(coeffs[1:-1])) / abs(coeffs[-1]))\n",
    "\n",
    "        rings = 2 * n\n",
    "        perim = 2 * n\n",
    "\n",
    "        # сетка стартовых точек \n",
    "        for p in np.linspace(r, R, rings):\n",
    "            for phi in np.linspace(0.0, 2.0 * math.pi, perim, endpoint=False):\n",
    "                z_0 = p * (math.cos(phi) + 1j * math.sin(phi))\n",
    "                z=z_0\n",
    "                for _ in range(NEWTON_MAX_STEPS):\n",
    "                    f  = polynomial_value(z, coeffs)\n",
    "                    df = polynomial_derivative_value(z, coeffs)\n",
    "                    if abs(df) < 1e-16:\n",
    "                        break\n",
    "                    z_next = z - f / df\n",
    "                    if abs(z_next - z) < NEWTON_TOL:\n",
    "                        z = z_next\n",
    "                        break\n",
    "                    z = z_next\n",
    "\n",
    "                if not (math.isfinite(z.real) and math.isfinite(z.imag)):\n",
    "                    continue\n",
    "                if any(abs(z - r_0) < UNIQUE_TOL for r_0 in roots):\n",
    "                    continue\n",
    "                roots.append(z)\n",
    "                coeffs = deflate_polynomial(coeffs, z)\n",
    "                break\n",
    "            else:\n",
    "                continue\n",
    "            break\n",
    "\n",
    "    return roots\n",
    "\n",
    "\n",
    "\n",
    "\n",
    "\n",
    "coeffs = [1.00000000000000, -808.710000000000, 246641.841200000, \n",
    "            -33898682.5068420, 1842011080.63283, -11822825758.0076, 34111432268.5231,\n",
    "            -55344083765.8971, 54125863885.7217, -31826936635.5868, 10407310057.2455, -1459118284.25595]\n",
    "roots = find_roots(coeffs)\n",
    "\n",
    "print(\"Найдено корней:\", len(roots))\n",
    "for i, z in enumerate(roots, 1):\n",
    "    print(f\"root #{i}: {z}\")"
   ]
  },
  {
   "cell_type": "markdown",
   "id": "9b1abefc-cb02-406c-b7ae-5ff30020a9a5",
   "metadata": {},
   "source": [
    "# Апроксимация числа Пи"
   ]
  },
  {
   "cell_type": "code",
   "execution_count": null,
   "id": "433f57ee-5b62-4908-8d68-83bc351104d2",
   "metadata": {},
   "outputs": [
    {
     "name": "stdout",
     "output_type": "stream",
     "text": [
      "π (Чудновские)  50 знаков:\n",
      "3.14159265358979323846264338174026386280491311773406633228319\n"
     ]
    }
   ],
   "source": [
    "import mpmath as mp\n",
    "\n",
    "def pi_chudnovsky(digits: int) -> mp.mpf:\n",
    "    mp.mp.dps = digits + 10\n",
    "\n",
    "    BASE         = mp.mpf(640320)\n",
    "    BASE_CUBED   = BASE ** 3\n",
    "    SQRT_BASE_C3 = mp.sqrt(BASE_CUBED)\n",
    "\n",
    "    fact_6k = mp.mpf(1)\n",
    "    fact_3k = mp.mpf(1)\n",
    "    fact_k  = mp.mpf(1)                        \n",
    "\n",
    "    series_sum = mp.mpf(0)\n",
    "    max_k = digits // 14 + 2 \n",
    "\n",
    "    for k in range(max_k + 1):\n",
    "        linear_coeff = 13591409 + 545140134 * k\n",
    "        numerator    = (-1)**k * fact_6k * linear_coeff\n",
    "        denominator  = fact_3k * fact_k**3 * (SQRT_BASE_C3 * BASE_CUBED**k)\n",
    "        series_sum  += numerator / denominator\n",
    "\n",
    "        k_next = k + 1\n",
    "        fact_6k *= mp.factorial(6 * k_next) / mp.factorial(6 * k)\n",
    "        fact_3k *= (3 * k_next) * (3 * k_next - 1) * (3 * k_next - 2) / fact_3k\n",
    "        fact_k  *= k_next\n",
    "\n",
    "    inv_pi = 12 * series_sum\n",
    "    return 1 / inv_pi                          # π\n",
    "\n",
    "# ---------------- пример -----------------------------------------------------\n",
    "d = 50\n",
    "print(f\"π (Чудновские)  {d} знаков:\\n{pi_chudnovsky(d)}\")\n"
   ]
  },
  {
   "cell_type": "code",
   "execution_count": null,
   "id": "3829fcfc-b934-4024-95d2-5890faef0824",
   "metadata": {},
   "outputs": [
    {
     "name": "stdout",
     "output_type": "stream",
     "text": [
      "       цифры |   итерации | среднее время\n",
      "   50 знаков |   4 итерац.| 0.0002 сек\n",
      "  100 знаков |   8 итерац.| 0.0005 сек\n",
      "  200 знаков |  15 итерац.| 0.0005 сек\n",
      "  500 знаков |  36 итерац.| 0.0019 сек\n",
      " 1000 знаков |  71 итерац.| 0.0089 сек\n",
      " 2000 знаков | 142 итерац.| 0.0398 сек\n"
     ]
    }
   ],
   "source": [
    "import time\n",
    "import mpmath as mp\n",
    "\n",
    "EXTRA = 40\n",
    "\n",
    "\n",
    "def chudnovsky_iters_simple(digits: int, extra: int = EXTRA):\n",
    "    old_dps = mp.mp.dps\n",
    "    mp.mp.dps = digits + extra\n",
    "\n",
    "    C = mp.mpf(640320)\n",
    "    C3 = C ** 3\n",
    "    sqrtC3 = mp.sqrt(C3)\n",
    "    target = mp.mpf(10) ** (-digits)\n",
    "\n",
    "    s = mp.mpf(0)\n",
    "    k = 0\n",
    "    start = time.perf_counter()\n",
    "\n",
    "    while True:\n",
    "        num = (-1) ** k * mp.factorial(6 * k) * (13591409 + 545140134 * k)\n",
    "        den = mp.factorial(3 * k) * (mp.factorial(k) ** 3) * sqrtC3 * (C3 ** k)\n",
    "        s += num / den\n",
    "\n",
    "        pi_est = 1 / (12 * s)\n",
    "        if abs(pi_est - mp.pi) < target:\n",
    "            break\n",
    "        k += 1\n",
    "\n",
    "    elapsed = time.perf_counter() - start\n",
    "    mp.mp.dps = old_dps \n",
    "\n",
    "    return k + 1, elapsed, pi_est\n",
    "\n",
    "\n",
    "if __name__ == \"__main__\":\n",
    "    print(f\"{'цифры':>12} | {'итерации':>10} | {'среднее время'}\")\n",
    "    for d in (50, 100, 200, 500, 1000, 2000):\n",
    "        it, t, _ = chudnovsky_iters_simple(d)\n",
    "        print(f\"{d:5d} знаков | {it:3d} итерац.| {t:.4f} сек\")"
   ]
  },
  {
   "cell_type": "code",
   "execution_count": null,
   "id": "76fdacde-98b8-4974-baf9-98bdfa13e96c",
   "metadata": {},
   "outputs": [
    {
     "name": "stdout",
     "output_type": "stream",
     "text": [
      " digits |  avg time, s\n",
      "-----------------------\n",
      "     50 |     0.000044\n",
      "    100 |     0.000047\n",
      "    200 |     0.000090\n",
      "    500 |     0.000478\n",
      "   1000 |     0.001954\n"
     ]
    }
   ],
   "source": [
    "\n",
    "\n",
    "import timeit\n",
    "import mpmath as mp\n",
    "\n",
    "EXTRA = 40\n",
    "def machin_pi(digits: int) -> mp.mpf:\n",
    "    old = mp.mp.dps\n",
    "    mp.mp.dps = digits + EXTRA\n",
    "    val = 4 * (4 * mp.atan(mp.mpf(1)/5) - mp.atan(mp.mpf(1)/239))\n",
    "    mp.mp.dps = old\n",
    "    return val             \n",
    "\n",
    "digits_list = [50, 100, 200, 500, 1000]\n",
    "repeats     = 10\n",
    "\n",
    "print(f\"{'digits':>7} | {'avg time, s':>12}\")\n",
    "print(\"-\"*23)\n",
    "\n",
    "for d in digits_list:\n",
    "    times = timeit.repeat(\n",
    "        stmt=\"machin_pi(d)\",\n",
    "        globals={\"machin_pi\": machin_pi, \"d\": d},\n",
    "        number=1,\n",
    "        repeat=repeats\n",
    "    )\n",
    "    avg_t = sum(times) / repeats\n",
    "    print(f\"{d:7d} | {avg_t:12.6f}\")\n"
   ]
  },
  {
   "cell_type": "code",
   "execution_count": null,
   "id": "c2f9ae72-854c-4105-98bf-2da46adfcb82",
   "metadata": {},
   "outputs": [
    {
     "name": "stdout",
     "output_type": "stream",
     "text": [
      " digits |  avg time, s |  iters\n",
      "----------------------------------\n",
      "     50 |     0.000043 |     35\n",
      "    100 |     0.000049 |     71\n",
      "    200 |     0.000091 |    142\n",
      "    500 |     0.000501 |    356\n",
      "   1000 |     0.002020 |    714\n",
      "   2000 |     0.006033 |   1429\n"
     ]
    }
   ],
   "source": [
    "def machin_iters(digits: int) -> int:\n",
    "    old = mp.mp.dps\n",
    "    mp.mp.dps = digits + EXTRA\n",
    "\n",
    "    x5, x239 = mp.mpf(1)/5, mp.mpf(1)/239\n",
    "    term1, term2 = x5, x239\n",
    "    sum1 = sum2 = mp.mpf(0)\n",
    "    denom = 1\n",
    "    target = mp.mpf(10) ** (-digits)\n",
    "\n",
    "    iters = 0\n",
    "    while True:\n",
    "        sum1 +=  term1 / denom\n",
    "        sum2 +=  term2 / denom\n",
    "        pi_est = 4 * (4*sum1 - sum2)\n",
    "        if abs(pi_est - mp.pi) < target:\n",
    "            break\n",
    "        denom += 2\n",
    "        term1 *= -x5**2\n",
    "        term2 *= -x239**2\n",
    "        iters += 1\n",
    "\n",
    "    mp.mp.dps = old\n",
    "    return iters + 1         \n",
    "\n",
    "digits_list = [50, 100, 200, 500, 1000, 2000]\n",
    "repeats     = 10 \n",
    "\n",
    "print(f\"{'digits':>7} | {'avg time, s':>12} | {'iters':>6}\")\n",
    "print(\"-\"*34)\n",
    "\n",
    "for d in digits_list:\n",
    "    times = timeit.repeat(\n",
    "        stmt=\"machin_pi(d)\",\n",
    "        globals={\"machin_pi\": machin_pi, \"d\": d},\n",
    "        number=1,\n",
    "        repeat=repeats\n",
    "    )\n",
    "    avg_t = sum(times) / repeats\n",
    "\n",
    "    k_iters = machin_iters(d)\n",
    "\n",
    "    print(f\"{d:7d} | {avg_t:12.6f} | {k_iters:6d}\")"
   ]
  },
  {
   "cell_type": "code",
   "execution_count": null,
   "id": "cbf6fe48-2de7-4f1b-8432-13bdea027197",
   "metadata": {},
   "outputs": [],
   "source": []
  }
 ],
 "metadata": {
  "kernelspec": {
   "display_name": "Python 3 (ipykernel)",
   "language": "python",
   "name": "python3"
  },
  "language_info": {
   "codemirror_mode": {
    "name": "ipython",
    "version": 3
   },
   "file_extension": ".py",
   "mimetype": "text/x-python",
   "name": "python",
   "nbconvert_exporter": "python",
   "pygments_lexer": "ipython3",
   "version": "3.12.3"
  }
 },
 "nbformat": 4,
 "nbformat_minor": 5
}
